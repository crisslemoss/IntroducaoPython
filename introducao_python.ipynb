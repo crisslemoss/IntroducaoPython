{
  "nbformat": 4,
  "nbformat_minor": 0,
  "metadata": {
    "colab": {
      "name": "TopicosAvancados.ipynb",
      "provenance": [],
      "toc_visible": true
    },
    "kernelspec": {
      "name": "python3",
      "display_name": "Python 3"
    }
  },
  "cells": [
    {
      "cell_type": "markdown",
      "metadata": {
        "id": "xjXUFr0w91R7",
        "colab_type": "text"
      },
      "source": [
        "# Estudando Python:"
      ]
    },
    {
      "cell_type": "markdown",
      "metadata": {
        "id": "68ZHg7Sb9uiW",
        "colab_type": "text"
      },
      "source": [
        "**List comprehension** - Cria nova lista com condiçoes\n"
      ]
    },
    {
      "cell_type": "code",
      "metadata": {
        "id": "nd_rAdeX9bGG",
        "colab_type": "code",
        "colab": {
          "base_uri": "https://localhost:8080/",
          "height": 68
        },
        "outputId": "c82fd418-a8dd-47ff-aed6-14fccc8e5869"
      },
      "source": [
        "#List comprehension\n",
        "#y Deve receber o quadrado de cada item de x\n",
        "\n",
        "#modo classico de fazer\n",
        "'''x=[1,2,3,4,5]\n",
        "y=[]\n",
        "\n",
        "for i in x:\n",
        "    y.append(i**2)\n",
        "\n",
        "print(x)    \n",
        "print(y)\n",
        "'''\n",
        "\n",
        "#usando list comprehension\n",
        "x=[1,2,3,4,5]\n",
        "y=[i**2 for i in x]         #sintaxe =>  y=[valor_a_adicionar laço condição]\n",
        "z=[i for i in x if i%2==1]  #incluindo a condiçao para mostrar apenas numeros impares da lista x\n",
        "\n",
        "print(x)    \n",
        "print(y)\n",
        "print(z)"
      ],
      "execution_count": null,
      "outputs": [
        {
          "output_type": "stream",
          "text": [
            "[1, 2, 3, 4, 5]\n",
            "[1, 4, 9, 16, 25]\n",
            "[1, 3, 5]\n"
          ],
          "name": "stdout"
        }
      ]
    },
    {
      "cell_type": "markdown",
      "metadata": {
        "id": "nl2pVU-YEGjv",
        "colab_type": "text"
      },
      "source": [
        "**Enumerate** - Lista o nome e o idice dos itens de uma lista"
      ]
    },
    {
      "cell_type": "code",
      "metadata": {
        "id": "ob90MoAPBKxW",
        "colab_type": "code",
        "colab": {
          "base_uri": "https://localhost:8080/",
          "height": 272
        },
        "outputId": "a5ed4e91-c7ea-4831-b3ab-4d035e158873"
      },
      "source": [
        "#Funcao enumerate - listar o nome do item na lista e seu indice\n",
        "lista = [\"gato\",\"bola\",\"cachorro\", \"papagaio\"]\n",
        "\n",
        "#imprime os nomes da lista\n",
        "for i in lista:\n",
        "    print(i)\n",
        "\n",
        "#imprime os indices da lista\n",
        "for i in range(len(lista)):\n",
        "    print(i)\n",
        "\n",
        "print('_'*30+'\\n usando Enumerate...\\n')      \n",
        "\n",
        "for i,nome in enumerate(lista):\n",
        "    print(i,nome)"
      ],
      "execution_count": null,
      "outputs": [
        {
          "output_type": "stream",
          "text": [
            "gato\n",
            "bola\n",
            "cachorro\n",
            "papagaio\n",
            "0\n",
            "1\n",
            "2\n",
            "3\n",
            "______________________________\n",
            " usando Enumerate...\n",
            "\n",
            "0 gato\n",
            "1 bola\n",
            "2 cachorro\n",
            "3 papagaio\n"
          ],
          "name": "stdout"
        }
      ]
    },
    {
      "cell_type": "markdown",
      "metadata": {
        "id": "O-JGt9rYCXq_",
        "colab_type": "text"
      },
      "source": [
        "**Map** - Aplica uma funçao a cada item de uma lista"
      ]
    },
    {
      "cell_type": "code",
      "metadata": {
        "id": "E2Mi7ll2CVyF",
        "colab_type": "code",
        "colab": {
          "base_uri": "https://localhost:8080/",
          "height": 34
        },
        "outputId": "3d7b5ab6-7e51-47a5-eb20-a0dc7a20701a"
      },
      "source": [
        "#map - pega cada elemento da lista e aplica uma determinada funçao \n",
        "\n",
        "valor = [1,2,3,4,5]\n",
        "\n",
        "def dobro(x):\n",
        "    return x*2\n",
        "\n",
        "map(dobro, valor)                #Dois argumentos a funçao e a lista e retorna um objeto do tipo map\n",
        "valorDobrado = map(dobro, valor) #O objeto map é atribuido a uma variavel e em seguida convertido em lista\n",
        "valorDobrado = list(valorDobrado)\n",
        "print(valorDobrado)"
      ],
      "execution_count": null,
      "outputs": [
        {
          "output_type": "stream",
          "text": [
            "[2, 4, 6, 8, 10]\n"
          ],
          "name": "stdout"
        }
      ]
    },
    {
      "cell_type": "markdown",
      "metadata": {
        "id": "qUZMDA2pFefn",
        "colab_type": "text"
      },
      "source": [
        "**Reduce** - Reduz uma lista a um único valor \n"
      ]
    },
    {
      "cell_type": "code",
      "metadata": {
        "id": "6Ar84Un2FnBw",
        "colab_type": "code",
        "colab": {
          "base_uri": "https://localhost:8080/",
          "height": 51
        },
        "outputId": "f42c63d4-78d2-451c-d173-a75fa351895e"
      },
      "source": [
        "from functools import reduce\n",
        "lista = [1,3,5,10]\n",
        "\n",
        "#Somar todas os items da lista\n",
        "def soma(x,y):\n",
        "    return x+y\n",
        "soma = reduce(soma,lista)\n",
        "print(soma)\n",
        "\n",
        "\n",
        "#Multiplicar os itens da lista\n",
        "def multiplica(x,y):\n",
        "    return x*y\n",
        "multiplica = reduce(multiplica, lista)\n",
        "print(multiplica)"
      ],
      "execution_count": null,
      "outputs": [
        {
          "output_type": "stream",
          "text": [
            "19\n",
            "150\n"
          ],
          "name": "stdout"
        }
      ]
    },
    {
      "cell_type": "markdown",
      "metadata": {
        "id": "pdpsGcTCHpDr",
        "colab_type": "text"
      },
      "source": [
        "**ZIP** - Uni n listas em uma unica lista"
      ]
    },
    {
      "cell_type": "code",
      "metadata": {
        "id": "SbjKEomGHl6g",
        "colab_type": "code",
        "colab": {
          "base_uri": "https://localhost:8080/",
          "height": 102
        },
        "outputId": "a14417f0-bc1f-478b-d1d2-3232d6cf2b90"
      },
      "source": [
        "lista1 = [101,102,103,104]\n",
        "lista2 = [\"Monitor\",\"Mouse\",\"Teclado\",\"Fone de ouvido\"]\n",
        "lista3 = [\"600,00\", \" 55,00\", \"300,00\", \"125,00\"]\n",
        "\n",
        "listaZipada = zip(lista1,lista2, lista3)\n",
        "listaZipada = list(listaZipada)\n",
        "print(listaZipada)\n",
        "\n",
        "for codigo, produto, preco in zip(lista1,lista2, lista3):\n",
        "    print(codigo, preco, produto)"
      ],
      "execution_count": null,
      "outputs": [
        {
          "output_type": "stream",
          "text": [
            "[(101, 'Monitor', '600,00'), (102, 'Mouse', ' 55,00'), (103, 'Teclado', '300,00'), (104, 'Fone de ouvido', '125,00')]\n",
            "101 600,00 Monitor\n",
            "102  55,00 Mouse\n",
            "103 300,00 Teclado\n",
            "104 125,00 Fone de ouvido\n"
          ],
          "name": "stdout"
        }
      ]
    }
  ]
}
